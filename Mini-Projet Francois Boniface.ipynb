{
 "cells": [
  {
   "cell_type": "markdown",
   "metadata": {},
   "source": [
    "<h3>François Boniface</h3>\n",
    "<br />\n",
    "<h1 align=\"center\">MDI220 : Mini-Projet</h1>\n",
    "<br /><br />\n",
    "<h2> I - Démarrage</h2>"
   ]
  },
  {
   "cell_type": "code",
   "execution_count": 1,
   "metadata": {
    "collapsed": false
   },
   "outputs": [],
   "source": [
    "%matplotlib inline\n",
    "\n",
    "import scipy.stats as sp\n",
    "import numpy as np\n",
    "import matplotlib.pyplot as plt\n",
    "\n",
    "np.random.seed(42)                         # on implante une graine dans le générateur de nombres pseudo-aléatoires"
   ]
  },
  {
   "cell_type": "markdown",
   "metadata": {},
   "source": [
    "<br /><h2>II - Exercice 1</h2>\n",
    "<h4>Question 1</h4>\n",
    "<br />Montrons que T(X) est sans biais et de variance minimale.<br />\n",
    "Calculons le biais de T(X) :\n",
    "$$\n",
    "\\begin{align}\n",
    "b(\\theta,T) &= \\mathbb{E}_{\\theta}(T(X) - g(\\theta)) \\\\\n",
    "&= \\mathbb{E}_{\\theta}(\\frac{1}{n}\\sum_{i=1}^{n}X_i) - \\frac{1}{\\theta} \\\\\n",
    "&= \\frac{1}{n}\\sum_{i=1}^{n}\\mathbb{E}_{\\theta}(X_i) - \\frac{1}{\\theta} \\\\\n",
    "&= 0\n",
    "\\end{align}\n",
    "$$\n",
    "<br />\n",
    "L'estimateur T(X) est donc de biais nul.\n",
    "<br /><br />\n",
    "Pour que T(X) soit un estimateur UVMB, il faut également qu'il soit de variance minimale, c'est-à-dire que sa variance atteigne la borne de Cramér-Rao, les hypothèses du théorème du même nom étant vérifiées.<br />\n",
    "Començons par calculer la variance de T(X) (on rappelle que les $X_i$ sont indépendants) :\n",
    "$$\n",
    "\\begin{align}\n",
    "Var_{\\theta}(T(X)) &= Var_{\\theta}(\\frac{1}{n}\\sum_{i=1}^{n}X_i) \\\\\n",
    "&= \\frac{1}{n^2}\\sum_{i=1}^{n}Var_{\\theta}(X_i) \\\\\n",
    "&= \\frac{1}{n\\theta^2}\n",
    "\\end{align}\n",
    "$$\n",
    "<br />\n",
    "La borne de Cramér-Rao vaut : $\\frac{g'(\\theta)^2}{I(\\theta)}$ où $I(\\theta)$ est l'information de Fisher.\n",
    "Ici : $g(\\theta) = \\frac{1}{\\theta}$ d'ou $g'(\\theta)^2 = \\frac{1}{\\theta^4}$.\n",
    "<br />\n",
    "Calculons maintenant l'information de Fisher :\n",
    "$$ I(\\theta) = I_n(\\theta) = nI_1(\\theta) $$\n",
    "<br /> avec :\n",
    "$$ I_1(\\theta) = -\\mathbb{E}_{\\theta}(\\frac{\\partial^{2}log(p)}{\\partial^{2}\\theta}(X_1,\\theta)) $$\n",
    "<br />Or on a :\n",
    "$$\n",
    "\\begin{align}\n",
    "p(x,\\theta) &= \\frac{d}{dx}\\mathbb{P}_{\\theta}(X_1\\leqslant x) \\\\\n",
    "&= \\frac{d}{dx}(1-\\mathbb{P}_{\\theta}(X_1>x)) \\\\\n",
    "&= \\left \\{\n",
    "\\begin{array}{c @{=} c}\n",
    "\\theta e^{-\\theta x}  &si &x\\geqslant 0\\\\\n",
    "0 &sinon \\\\\n",
    "\\end{array}\n",
    "\\right.\n",
    "\\end{align}\n",
    "$$\n",
    "<br /><br />On obtient donc : \n",
    "$$ I_1(\\theta) = \\frac{1}{\\theta^2} $$\n",
    "Finalement, on a donc bien :\n",
    "$$ Var_{\\theta}(T(X)) = \\frac{g'(\\theta)^2}{I(\\theta)} = \\frac{1}{n\\theta^2} $$\n",
    "T(X) est bien un estimateur UVMB."
   ]
  },
  {
   "cell_type": "markdown",
   "metadata": {
    "collapsed": false
   },
   "source": [
    "<h4>Question 2</h4>\n",
    "<br />Pour $\\theta, \\alpha > 0$ : \n",
    "$$R(\\theta,S_{\\alpha}) = \\mathbb{E}_{\\theta}((g(\\theta) - S_{\\alpha}(X))^2) = b(\\theta,S_{\\alpha})^2 + Var_{\\theta}(S_{\\alpha}(X)) $$\n",
    "<br />Calculons le biais de ce nouvel estimateur :\n",
    "$$\n",
    "\\begin{align}\n",
    "b(\\theta,S_{\\alpha}) &= \\mathbb{E}_{\\theta}(S_{\\alpha}(X) - g(\\theta)) \\\\\n",
    "&= \\alpha\\mathbb{E}_{\\theta}(T(X)) - \\frac{1}{\\theta} \\\\\n",
    "&= \\frac{\\alpha-1}{\\theta}\n",
    "\\end{align}\n",
    "$$\n",
    "<br />Calcul de la variance :\n",
    "$$\n",
    "\\begin{align}\n",
    "Var_{\\theta}(S_{\\alpha}(X)) &= \\alpha^2 Var_{\\theta}(T(X)) \\\\\n",
    "&= \\frac{\\alpha^2}{n\\theta^2}\n",
    "\\end{align}\n",
    "$$\n",
    "<br />D'où :\n",
    "$$ R(\\theta,S_{\\alpha}) = \\frac{n-2n\\alpha+(n+1)\\alpha^2}{n\\theta^2} $$\n",
    "<br />Par ailleurs, on a :\n",
    "$$ R(\\theta,T) = Var_{\\theta}(T(X)) = \\frac{1}{n\\theta^2} $$\n",
    "<br />Pour avoir $R(\\theta,S_{\\alpha}) < R(\\theta,T)$, on veut donc : $n-1-2n\\alpha+(n+1)\\alpha^2 < 0$\n",
    "<br /><br />Soit : $$\\frac{n-1}{n+1} < \\alpha < 1$$"
   ]
  },
  {
   "cell_type": "markdown",
   "metadata": {
    "collapsed": true
   },
   "source": [
    "<h4>Question 3</h4>\n",
    "<br />A $\\theta$ et $n$ fixés, posons $f(\\alpha) = R(\\theta,S_{\\alpha})$.\n",
    "<br />Résolvons : \n",
    "$$f'(\\alpha)\\leqslant 0 \\Leftrightarrow \\frac{2\\alpha(n+1)-2n}{n\\theta^2}\\leqslant 0 \\Leftrightarrow \\alpha \\leqslant \\frac{n}{n+1}$$\n",
    "<br />On a donc : $\\alpha^* = \\frac{n}{n+1}$, qui est bien un minimum."
   ]
  },
  {
   "cell_type": "markdown",
   "metadata": {},
   "source": [
    "<h4>Question 4</h4>\n",
    "<h5>a)</h5>"
   ]
  },
  {
   "cell_type": "code",
   "execution_count": 2,
   "metadata": {
    "collapsed": false
   },
   "outputs": [],
   "source": [
    "Z = np.zeros([10,10**5]);\n",
    "for j in range(0,10**5):\n",
    "    Z[:,j] = np.random.exponential(1/0.5,10) # on génère les colonnes de Z selon une loi exponentielle, avec theta = 0.5"
   ]
  },
  {
   "cell_type": "markdown",
   "metadata": {},
   "source": [
    "<h5>b)</h5>"
   ]
  },
  {
   "cell_type": "code",
   "execution_count": 3,
   "metadata": {
    "collapsed": false
   },
   "outputs": [],
   "source": [
    "Tx = np.zeros(10**5);\n",
    "Sx = np.zeros(10**5);\n",
    "alpha = 10/11;\n",
    "for i in range(0,10**5):\n",
    "    Tx[i] = np.mean(Z[:,i]);\n",
    "    Sx[i] = alpha*np.mean(Z[:,i]);"
   ]
  },
  {
   "cell_type": "markdown",
   "metadata": {},
   "source": [
    "<h5>c)</h5>"
   ]
  },
  {
   "cell_type": "code",
   "execution_count": 4,
   "metadata": {
    "collapsed": false
   },
   "outputs": [
    {
     "name": "stdout",
     "output_type": "stream",
     "text": [
      "Moyenne de Tx : 2.00222758079\n",
      "Moyenne de Sx : 1.82020689163\n"
     ]
    },
    {
     "data": {
      "image/png": "[encoded data removed]",
      "text/plain": [
       "<matplotlib.figure.Figure at 0x275d81b9c50>"
      ]
     },
     "metadata": {},
     "output_type": "display_data"
    }
   ],
   "source": [
    "plt.hist(Tx, 100, color ='blue', alpha = 0.5); # on ne trace que 100 valeurs pour des questions de lisibilité\n",
    "plt.hist(Sx, 100, color ='red' , alpha = 0.5);\n",
    "\n",
    "t = \"Moyenne de Tx : \"+str(np.mean(Tx));\n",
    "print(t);\n",
    "s = \"Moyenne de Sx : \"+str(np.mean(Sx));\n",
    "print(s);"
   ]
  },
  {
   "cell_type": "markdown",
   "metadata": {},
   "source": [
    "<h5>d)</h5>"
   ]
  },
  {
   "cell_type": "code",
   "execution_count": 5,
   "metadata": {
    "collapsed": false
   },
   "outputs": [],
   "source": [
    "L1 = np.zeros(10**5);\n",
    "Lalpha = np.zeros(10**5);\n",
    "for i in range(0,10**5):\n",
    "    L1[i] = (Tx[i]-1/0.5)**2;\n",
    "    Lalpha[i] = (Sx[i]-1/0.5)**2;"
   ]
  },
  {
   "cell_type": "markdown",
   "metadata": {},
   "source": [
    "<h5>e)</h5>\n",
    "<br />On rappelle que :\n",
    "$$\n",
    "\\begin{align}\n",
    "R(\\theta,T) &= \\frac{1}{n\\theta^2} \\\\\n",
    "R(\\theta,S_{\\alpha}) &= \\frac{n-2n\\alpha+(n+1)\\alpha^2}{n\\theta^2}\n",
    "\\end{align}\n",
    "$$\n",
    "Ce qui donne les valeurs :"
   ]
  },
  {
   "cell_type": "code",
   "execution_count": 6,
   "metadata": {
    "collapsed": false
   },
   "outputs": [
    {
     "name": "stdout",
     "output_type": "stream",
     "text": [
      "Risque de T : 0.4\n",
      "Risque de S : 0.36363636363636404\n"
     ]
    }
   ],
   "source": [
    "Rt = 1/(10 * (0.5)**2); \n",
    "Rs = (11*(10/11)**2 - 2*10/11*10 + 10)/ (10 * (0.5)**2);\n",
    "print(\"Risque de T : \"+str(Rt));\n",
    "print(\"Risque de S : \"+str(Rs));"
   ]
  },
  {
   "cell_type": "markdown",
   "metadata": {},
   "source": [
    "Calculons d'autre part les valeurs expérimentales :"
   ]
  },
  {
   "cell_type": "code",
   "execution_count": 7,
   "metadata": {
    "collapsed": false
   },
   "outputs": [
    {
     "name": "stdout",
     "output_type": "stream",
     "text": [
      "Risque expérimental pour T : 0.40092202519\n",
      "Risque expérimental pour S : 0.363661977582\n"
     ]
    }
   ],
   "source": [
    "Rtexp = np.mean(L1);\n",
    "Rsexp = np.mean(Lalpha);\n",
    "print(\"Risque expérimental pour T : \"+str(Rtexp));\n",
    "print(\"Risque expérimental pour S : \"+str(Rsexp));"
   ]
  },
  {
   "cell_type": "markdown",
   "metadata": {},
   "source": [
    "Théoriquement comme numériquement, on observe bien :\n",
    "$$R(\\theta,S_{\\alpha^*}) < R(\\theta,T)$$"
   ]
  },
  {
   "cell_type": "markdown",
   "metadata": {},
   "source": [
    "<h5>e)</h5>"
   ]
  },
  {
   "cell_type": "code",
   "execution_count": 9,
   "metadata": {
    "collapsed": false
   },
   "outputs": [
    {
     "data": {
      "image/png": "[encoded data removed]",
      "text/plain": [
       "<matplotlib.figure.Figure at 0x275da504a90>"
      ]
     },
     "metadata": {},
     "output_type": "display_data"
    }
   ],
   "source": [
    "plt.figure(figsize = (15,8)); # agrandissment du graphique car on ne voyait pas grand chose de base\n",
    "\n",
    "plt.hist(L1,100, color ='blue', alpha = 0.5 );\n",
    "plt.hist(Lalpha,100, color ='red' ,alpha = 0.5);\n",
    "plt.plot([np.mean(L1),np.mean(L1)],[0,50000], color=\"green\", alpha=1);\n",
    "plt.plot([np.mean(Lalpha),np.mean(Lalpha)],[0,50000], color=\"black\", alpha=1)\n",
    "plt.xlim([0,5])\n",
    "plt.show()"
   ]
  },
  {
   "cell_type": "markdown",
   "metadata": {},
   "source": [
    "On constate graphiquement que $R(\\theta,S_{\\alpha^*})$ (en noir) est légèrement inférieur à $R(\\theta,T)$ (en vert)."
   ]
  },
  {
   "cell_type": "markdown",
   "metadata": {},
   "source": [
    "<br /><h2>III - Exercice 2</h2>\n",
    "<h4>Question 1</h4>\n",
    "<br />Le modèle $\\mathcal{P}$ est dominé par la mesure de comptage.\n",
    "\n",
    "<h4>Question 2</h4>\n",
    "<br />Commençons par noter : $$S_n(y) = \\sum_{i=1}^{n}y_i$$\n",
    "Calculons maintenant la loi a posteriori :\n",
    "$$\n",
    "\\begin{align}\n",
    "\\pi(\\theta|y) &= \\frac{\\pi(\\theta)\\frac{\\theta^{S_{n}(y)}}{\\prod_{i = 1}^{n}y_{i}}e^{-n\\theta}}{\\int_{0}^{+\\infty} \\pi(t)\\frac{t^{S_{n}(y)}}{\\prod_{i = 1}^{n}y_{i}}e^{-nt}dt} \\\\\n",
    "&= \\mathbb{1}_{\\theta >0}\\frac{\\theta^{S_{n}(y) + \\alpha -1}e^{-(\\beta+n)\\theta}}{\\int_{0}^{+\\infty}t^{S_{n}(y)+\\alpha-1}e^{-(\\beta+n)t}dt}\n",
    "\\end{align}\n",
    "$$\n",
    "Posons : $u = (\\beta + n)t$.\n",
    "<br />Alors l'équation devient :\n",
    "$$\n",
    "\\begin{align}\n",
    "\\pi(\\theta|y) &= \\mathbb{1}_{\\theta >0}\\frac{\\theta^{S_{n}(y) + \\alpha -1}e^{-(\\beta+n)\\theta}}{\\int_{0}^{+\\infty}\\frac{1}{(\\beta +n)^{\\alpha+S_{n}(y)}}u^{\\alpha + S_{n}(y) -1}e^{-u}du} \\\\\n",
    "&= \\mathbb{1}_{\\theta >0} \\frac{(\\beta +n)^{\\alpha+S_{n}(y)}}{\\Gamma(\\alpha+S_{n}(y))}\\theta^{\\alpha+S_{n}(y)-1}e^{-(\\beta + n)\\theta}\n",
    "\\end{align}\n",
    "$$\n",
    "<br />On obtient finalement : $\\pi(\\theta|y)\\sim \\Gamma(\\alpha + S_{n}(y), \\beta+n)$"
   ]
  },
  {
   "cell_type": "markdown",
   "metadata": {},
   "source": [
    "<h4>Question 3</h4>\n",
    "<br />On a pour $n\\in\\mathbb{N}$ : $$\\mathbb{E}_{\\pi}(\\theta|y) = \\frac{\\alpha + S_{n}(y)}{\\beta+n}$$\n",
    "<br />$T(Y) = \\mathbb{E}_{\\pi}(\\theta|Y)$ peut être considéré comme un estimateur de $\\theta_0$ car elle représente la valeur de $\\theta$ la plus probable d'après les données, et donc la plus proche de sa vraie valeur $\\theta_0$."
   ]
  },
  {
   "cell_type": "markdown",
   "metadata": {},
   "source": [
    "<h5>Question 4</h5>\n",
    "<br />Pour $n\\in\\mathbb{N}$, on a :\n",
    "$$\n",
    "\\begin{align}\n",
    "T(Y^n) &= \\frac{\\alpha + \\sum_{i=1}^{n}y_{i}}{\\beta +n} \\\\\n",
    "&= \\frac{\\alpha}{\\beta +n} + \\frac{n}{\\beta + n}(\\frac{1}{n}\\sum_{i=1}^{n}y_{i})\n",
    "\\end{align}\n",
    "$$\n",
    "Or : $\\frac{\\alpha}{\\beta +n} \\xrightarrow[n \\to +\\infty]{} 0$ et $\\frac{n}{\\beta + n} \\xrightarrow[n \\to +\\infty]{} 1$.\n",
    "<br /><br />De plus, la loi des grands nombres donne : $$\\frac{1}{n}\\sum_{i=1}^{n}y_{i} \\xrightarrow[n \\to +\\infty]{} \\theta_{0}$$\n",
    "<br /><br />On a donc bien $T(Y^n) \\xrightarrow[n \\to +\\infty]{} \\theta_{0}$."
   ]
  },
  {
   "cell_type": "markdown",
   "metadata": {},
   "source": [
    "<h4>Question 5</h4>\n",
    "<h5>a)</h5>"
   ]
  },
  {
   "cell_type": "code",
   "execution_count": 10,
   "metadata": {
    "collapsed": false
   },
   "outputs": [],
   "source": [
    "Y = np.random.poisson(0.5,500);\n",
    "grille = np.arange(0,5,0.01);"
   ]
  },
  {
   "cell_type": "markdown",
   "metadata": {},
   "source": [
    "<h5>b)</h5>"
   ]
  },
  {
   "cell_type": "markdown",
   "metadata": {},
   "source": [
    "Quand n augmente, la loi a posteriori se concentre autour de $\\theta_0$, ce qui est bien conforme aux prédictions."
   ]
  },
  {
   "cell_type": "code",
   "execution_count": 11,
   "metadata": {
    "collapsed": false
   },
   "outputs": [
    {
     "data": {
      "image/png": "[encoded data removed]",
      "text/plain": [
       "<matplotlib.figure.Figure at 0x275dac6b160>"
      ]
     },
     "metadata": {},
     "output_type": "display_data"
    }
   ],
   "source": [
    "plt.plot(grille, sp.gamma.pdf(grille, 9,scale =1/3), color = 'black'); # prior\n",
    "# on trace maintenant les densités des lois a posteriori\n",
    "plt.plot(grille, sp.gamma.pdf(grille,9 + np.sum(Y[0:5]),scale =1/(3+5)), color = 'blue');\n",
    "plt.plot(grille, sp.gamma.pdf(grille,9 + np.sum(Y[0:20]),scale =1/(3+20)), color = 'red');\n",
    "plt.plot(grille, sp.gamma.pdf(grille,9 + np.sum(Y[0:100]),scale =1/(3+100)), color = 'green');\n",
    "plt.plot(grille, sp.gamma.pdf(grille,9 + np.sum(Y[0:500]),scale =1/(3+500)), color = 'brown');\n",
    "\n",
    "plt.plot([0.5,0.5],[0,14], color=\"yellow\"); #ligne indiquant la position de theta0\n",
    "plt.show()"
   ]
  },
  {
   "cell_type": "markdown",
   "metadata": {},
   "source": [
    "<h5>c)</h5>"
   ]
  },
  {
   "cell_type": "code",
   "execution_count": 12,
   "metadata": {
    "collapsed": false
   },
   "outputs": [
    {
     "data": {
      "image/png": "[encoded data removed]",
      "text/plain": [
       "<matplotlib.figure.Figure at 0x275dab6e8d0>"
      ]
     },
     "metadata": {},
     "output_type": "display_data"
    }
   ],
   "source": [
    "esp = np.zeros(500);\n",
    "for j in range(500):\n",
    "    esp[j] = (9 + np.sum(Y[0:j]))/(3 +j);\n",
    "\n",
    "plt.figure(figsize = (10,8));\n",
    "\n",
    "plt.plot(range(500),esp);\n",
    "plt.plot([0,500],[0.5,0.5],color=\"red\"); # valeur de theta0\n",
    "plt.plot([0,500],[0,0],color=\"black\"); # ligne représentant l'axe des abscisses pour que l'axe des ordonnées commence à 0\n",
    "plt.show()"
   ]
  },
  {
   "cell_type": "markdown",
   "metadata": {},
   "source": [
    "On constate que, comme prédit dans la question 4, l'espérance a posteriori converge vers $\\theta_0$."
   ]
  },
  {
   "cell_type": "markdown",
   "metadata": {},
   "source": [
    "<br /><br />\n",
    "<h2>IV - Exercice 3</h2>\n",
    "<h4>Question 1</h4>\n",
    "<br />Le modèle statistique est :\n",
    "$$\n",
    "P_{\\theta}(X_{1}) = \\left \\{\n",
    "\\begin{array}{c @{=} c}\n",
    "    \\theta  &si &X_{1} = 1 \\\\\n",
    "    1-\\theta &sinon \\\\\n",
    "\\end{array}\n",
    "\\right.\n",
    "$$\n",
    "<br />Pour $n$ observations, la densité s'écrit donc : \n",
    "$$\n",
    "\\begin{align}\n",
    "p_{\\theta}(X) &= \\prod_{i=1}^{n}\\theta^{x_i} \\cdot(1-\\theta)^{n-x_i} \\\\\n",
    "&= \\theta^{\\sum_{i=1}^{n}x_i}\\cdot(1-\\theta)^{n^{2} - \\sum_{i=1}^{n}x_i}\n",
    "\\end{align}\n",
    "$$\n",
    "<br />Les ensembles correspondant respectivement aux hypothèses $H_0$ et $H_1$ sont :\n",
    "$\\Theta_0=\\{0.5\\}$ et  $\\Theta_1=]0,1[~\\backslash~\\{0.5\\}$."
   ]
  },
  {
   "cell_type": "markdown",
   "metadata": {},
   "source": [
    "<h4>Question 2</h4>\n",
    "<br />En tant que somme de variables aléatoires de Bernoulli de paramètre $\\theta$ et indépendantes, S(X) suit une loi binomiale : $S(X)\\sim\\mathcal{B}(n,\\theta)$.\n",
    "<br /><br />On cherche maintenant à exprimer A.\n",
    "<br />On veut : $$P(\\frac{1}{n}S(X) \\notin [1 - A, A] |\\theta = 0.5) \\leqslant \\alpha$$\n",
    "Soit : $$P(S(X) \\notin [n(1 - A), nA] |\\theta = 0.5) \\leqslant \\alpha$$\n",
    "$S(X)$ étant symétrique en $\\frac{n}{2}$, la condition devient :\n",
    "$$\n",
    "P(S(X) \\notin [\\frac{n}{2}, nA] |\\theta = 0.5) \\leqslant \\frac{\\alpha}{2} \\\\\n",
    "\\Leftrightarrow P(S(X) \\in [\\frac{n}{2}, nA] |\\theta = 0.5) \\geqslant 1-\\frac{\\alpha}{2}\n",
    "$$\n",
    "<br /><br />En notant $F$ la fonction de répartition de $S(X)$ et $F^{\\leftarrow}(p)$ son quantile d'ordre $p$, on a donc :\n",
    "$$nA = F^{\\leftarrow}(1-\\frac{\\alpha}{2}) \\Leftrightarrow A = \\frac{F^{\\leftarrow}(1-\\frac{\\alpha}{2})}{n}$$"
   ]
  },
  {
   "cell_type": "markdown",
   "metadata": {
    "collapsed": true
   },
   "source": [
    "<h4>Question 3</h4>"
   ]
  },
  {
   "cell_type": "code",
   "execution_count": 13,
   "metadata": {
    "collapsed": false
   },
   "outputs": [
    {
     "data": {
      "image/png": "[encoded data removed]",
      "text/plain": [
       "<matplotlib.figure.Figure at 0x275dab43e10>"
      ]
     },
     "metadata": {},
     "output_type": "display_data"
    }
   ],
   "source": [
    "grille = np.arange(10**3,10**5,500);\n",
    "A = np.zeros(grille.size);\n",
    "for i in range(A.size):\n",
    "    A[i] = sp.binom.ppf(1-(5/100)/2,grille[i],0.5)/grille[i];\n",
    "    \n",
    "plt.plot(grille,A)\n",
    "plt.show()"
   ]
  },
  {
   "cell_type": "markdown",
   "metadata": {},
   "source": [
    "<h4>Question 4</h4>\n",
    "<br />Le risque de seconde espèce est définit comme la probabilité d'opter pour l'hypothèse nulle alors qu'elle est fausse. Ici, $H_0$ est bien fausse puisque l'on prend $\\theta=0.51$ alors que $\\Theta_0=\\{0.5\\}$.\n",
    "<br />Le risque de seconde espèce s'exprime donc :\n",
    "$$\n",
    "\\begin{align}\n",
    "R(\\theta=0.51,\\delta_n) &= \\mathbb{P}_{\\theta}(\\frac{1}{n}S(X) \\in [1-A(n),A(n)]) \\\\\n",
    "&= \\mathbb{P}_{\\theta}(S(X) \\in [n - nA(n),nA(n)]) \\\\\n",
    "&= F(nA(n))-\\mathbb{P}_{\\theta}(S(X^n)=nA(n))-F(n-nA(n))\n",
    "\\end{align}\n",
    "$$\n",
    "<br />où $F(x)=\\mathbb{P}_{\\theta}(X\\leqslant x)$."
   ]
  },
  {
   "cell_type": "code",
   "execution_count": 14,
   "metadata": {
    "collapsed": false
   },
   "outputs": [
    {
     "data": {
      "image/png": "[encoded data removed]",
      "text/plain": [
       "<matplotlib.figure.Figure at 0x275daad1898>"
      ]
     },
     "metadata": {},
     "output_type": "display_data"
    }
   ],
   "source": [
    "R = np.zeros(grille.size);\n",
    "for i in range(R.size):\n",
    "    R[i] = sp.binom.cdf(grille[i]*A[i],grille[i],0.51) - sp.binom.pmf(grille[i]*A[i],grille[i],0.51) - sp.binom.cdf(grille[i]*(1-A[i]),grille[i],0.51);\n",
    "    \n",
    "plt.plot(grille,R);"
   ]
  },
  {
   "cell_type": "markdown",
   "metadata": {
    "collapsed": true
   },
   "source": [
    "Cherchons maintenant la plus petite valeur de $n$ qui vérifie $\\beta(\\theta=0.51,\\delta_n)\\geqslant 0.95$, où $\\beta$ est la puissance du test. Elle vérifie alors de manière immédiate $R(\\theta=0.51,\\delta_n)\\leqslant 0.05$."
   ]
  },
  {
   "cell_type": "code",
   "execution_count": 15,
   "metadata": {
    "collapsed": false
   },
   "outputs": [
    {
     "name": "stdout",
     "output_type": "stream",
     "text": [
      "Valeur de n cherchée : 32500\n"
     ]
    }
   ],
   "source": [
    "n = 0 ;\n",
    "for i in range(grille.size):\n",
    "    if(R[i] <= 0.05):\n",
    "        n = grille[i];\n",
    "        break;\n",
    "         \n",
    "print(\"Valeur de n cherchée : \"+str(n));"
   ]
  },
  {
   "cell_type": "markdown",
   "metadata": {},
   "source": [
    "<h4>Question 5</h4>\n",
    "<br />On cherche maintenant à obtenir une précision de $\\pm$10 pour $n_0$. Il nous faut donc une grille de pas 10 alors que nous en utilisions une de pas 500. Il est inutile de chercher avant 32000 ou après 32500 car nous savons que $n_0$ est compris entre ces deux valeurs."
   ]
  },
  {
   "cell_type": "code",
   "execution_count": 16,
   "metadata": {
    "collapsed": false
   },
   "outputs": [
    {
     "name": "stdout",
     "output_type": "stream",
     "text": [
      "Valeur de n cherchée : 32350\n"
     ]
    }
   ],
   "source": [
    "newGrille = np.arange(32000,32500,10);\n",
    "A = np.zeros(newGrille.size);\n",
    "for i in range(A.size):\n",
    "    A[i] = sp.binom.ppf(1-(5/100)/2,newGrille[i],0.5)/newGrille[i];\n",
    "    \n",
    "R = np.zeros(newGrille.size);\n",
    "for i in range(R.size):\n",
    "    R[i] = sp.binom.cdf(newGrille[i]*A[i],newGrille[i],0.51) - sp.binom.pmf(newGrille[i]*A[i],newGrille[i],0.51) - sp.binom.cdf(newGrille[i]*(1-A[i]),newGrille[i],0.51);\n",
    "    \n",
    "n = 0 ;\n",
    "for i in range(newGrille.size):\n",
    "    if(R[i] <= 0.05 ):\n",
    "        n = newGrille[i];\n",
    "        break;\n",
    "         \n",
    "print(\"Valeur de n cherchée : \"+str(n));"
   ]
  },
  {
   "cell_type": "markdown",
   "metadata": {},
   "source": [
    "Le choix de A nous assure déjà d'avoir un risque de première espèce inférieur à 0.05. D'après ce que nous venons de faire, nous savons donc que nous aurons les risques de première et de seconde espèce tous deux inférieurs à 0.05 pour un échantillon de sondage de taille 32350."
   ]
  },
  {
   "cell_type": "code",
   "execution_count": null,
   "metadata": {
    "collapsed": true
   },
   "outputs": [],
   "source": []
  }
 ],
 "metadata": {
  "kernelspec": {
   "display_name": "Python 3",
   "language": "python",
   "name": "python3"
  },
  "language_info": {
   "codemirror_mode": {
    "name": "ipython",
    "version": 3
   },
   "file_extension": ".py",
   "mimetype": "text/x-python",
   "name": "python",
   "nbconvert_exporter": "python",
   "pygments_lexer": "ipython3",
   "version": "3.5.1"
  }
 },
 "nbformat": 4,
 "nbformat_minor": 0
}
